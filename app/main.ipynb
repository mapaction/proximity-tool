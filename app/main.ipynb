{
 "cells": [
  {
   "cell_type": "markdown",
   "id": "f0431919-c80a-4f52-bf4e-22454611d75f",
   "metadata": {},
   "source": [
    "# Test notebook"
   ]
  },
  {
   "cell_type": "markdown",
   "id": "a101c1d8-3ed5-49fa-8766-c3528b8d85d7",
   "metadata": {},
   "source": [
    "## Imports"
   ]
  },
  {
   "cell_type": "code",
   "execution_count": 1,
   "id": "058ee495-3a04-43db-a16f-66b3c21ab21b",
   "metadata": {},
   "outputs": [],
   "source": [
    "%load_ext autoreload\n",
    "%autoreload 2"
   ]
  },
  {
   "cell_type": "code",
   "execution_count": 2,
   "id": "dff3e296-74bc-4b6d-9c67-8c5faba7315d",
   "metadata": {},
   "outputs": [],
   "source": [
    "import folium\n",
    "import streamlit as st\n",
    "import os\n",
    "import matplotlib\n",
    "from rasterstats import zonal_stats\n",
    "import rasterio\n",
    "import requests\n",
    "\n",
    "from src.config_parameters import params\n",
    "from src.utils import *\n",
    "from src.utils_proximity import *\n",
    "from src.utils_population import *\n",
    "from src.utils_plotting import *"
   ]
  },
  {
   "cell_type": "markdown",
   "id": "c6523f08-59b0-48de-8d1c-9cd8cdede290",
   "metadata": {},
   "source": [
    "## General parameters"
   ]
  },
  {
   "cell_type": "code",
   "execution_count": 3,
   "id": "62cb8e26-ad70-4722-8b3e-aadd69abebe1",
   "metadata": {},
   "outputs": [],
   "source": [
    "verbose = True\n",
    "use_default_data = True\n",
    "use_local_pop_data = False"
   ]
  },
  {
   "cell_type": "markdown",
   "id": "ec473073-ad4f-4b89-862b-3071e7cf55d2",
   "metadata": {},
   "source": [
    "## User input"
   ]
  },
  {
   "cell_type": "code",
   "execution_count": 4,
   "id": "e08206b6-ce1e-4077-a867-22a1722ca9b3",
   "metadata": {},
   "outputs": [],
   "source": [
    "# Parameters given by the user\n",
    "upload_poi_file = \"test_data/mda_health_hospitals.zip\"\n",
    "upload_aoi_file = \"test_data/mda_admn_ad0.zip\" \n",
    "poi_name_col = \"name\""
   ]
  },
  {
   "cell_type": "markdown",
   "id": "b0db9a1c-d4a5-44ee-82f6-c0098cb47ccb",
   "metadata": {},
   "source": [
    "## Process input data"
   ]
  },
  {
   "cell_type": "code",
   "execution_count": 5,
   "id": "988ec368-3683-483c-bbe4-2c3e668aebd4",
   "metadata": {},
   "outputs": [
    {
     "name": "stderr",
     "output_type": "stream",
     "text": [
      "/home/daniele/Documents/MapAction/Python_projects/proximity-tool/app/src/utils_proximity.py:336: UserWarning: Geometry is in a geographic CRS. Results from 'centroid' are likely incorrect. Use 'GeoSeries.to_crs()' to re-project geometries to a projected CRS before this operation.\n",
      "\n",
      "  map_cent = poi_gdata.dissolve().to_crs(\"EPSG:4326\").centroid\n"
     ]
    }
   ],
   "source": [
    "# Create geopandas dataframes and prepare starting points\n",
    "aoi_gdf = create_aoi_gpd(upload_aoi_file)\n",
    "poi_gdf = create_poi_gpd(upload_poi_file)\n",
    "\n",
    "poi_within_aoi, poi_outside_aoi = poi_v_aoi(aoi_gdf, poi_gdf)\n",
    "start_points_dict, map_centre = prep_user_poi(poi_gdf, poi_name_col)"
   ]
  },
  {
   "cell_type": "markdown",
   "id": "2dd44763-e60a-4189-8eb5-bce44f207111",
   "metadata": {},
   "source": [
    "## Run computation"
   ]
  },
  {
   "cell_type": "code",
   "execution_count": 6,
   "id": "7e103780-1221-40d0-9c2d-60a82db23e07",
   "metadata": {},
   "outputs": [],
   "source": [
    "# Initialize ORS client\n",
    "ors = ors_initialize()"
   ]
  },
  {
   "cell_type": "code",
   "execution_count": 7,
   "id": "e0d785d7-6d81-46e1-a938-f53163c66475",
   "metadata": {},
   "outputs": [
    {
     "name": "stderr",
     "output_type": "stream",
     "text": [
      "2023-03-09 16:19:49.452 ERROR   fiona._env: app/test_data/mda_isochrones.geojson: No such file or directory\n"
     ]
    }
   ],
   "source": [
    "# API call\n",
    "all_isos, api_time = get_isochrones(start_points_dict, ors, mock_function=use_default_data)"
   ]
  },
  {
   "cell_type": "code",
   "execution_count": 12,
   "id": "b68de822-da5c-4a1f-afe2-6bd8b16a4374",
   "metadata": {},
   "outputs": [],
   "source": [
    "# Dissolve isochrones\n",
    "diss_isoc, diss_time = dissolve_iso(all_isos)"
   ]
  },
  {
   "cell_type": "code",
   "execution_count": 16,
   "id": "b82c1f5a-e4c4-452e-93d8-5160fafb993f",
   "metadata": {},
   "outputs": [],
   "source": [
    "# Remove overlaps from isochrones\n",
    "diff_isoc, diff_time = difference_iso(diss_isoc)"
   ]
  },
  {
   "cell_type": "code",
   "execution_count": 17,
   "id": "fa41c3e9-bee8-4757-b40c-4c6396582b5e",
   "metadata": {},
   "outputs": [],
   "source": [
    "# Fill to aoi area\n",
    "diff_isoc, fill_time = fill_aoi(diff_isoc, diss_isoc, aoi_gdf)"
   ]
  },
  {
   "cell_type": "code",
   "execution_count": 18,
   "id": "6442a718-3bae-44ef-8e54-fdc8bd24d004",
   "metadata": {},
   "outputs": [
    {
     "name": "stderr",
     "output_type": "stream",
     "text": [
      "/home/daniele/miniconda3/envs/proximity/lib/python3.9/site-packages/rasterstats/io.py:335: NodataWarning: Setting nodata to -999; specify nodata explicitly\n",
      "  warnings.warn(\n"
     ]
    }
   ],
   "source": [
    "# Add population analysis\n",
    "diff_isoc = add_population_data(\n",
    "    diff_isoc, \n",
    "    tif_folder='test_data/pop_data',\n",
    "    use_local_tif=use_local_pop_data\n",
    ")"
   ]
  },
  {
   "cell_type": "markdown",
   "id": "5e7e8699-f701-4035-be48-7695d01b763f",
   "metadata": {
    "tags": []
   },
   "source": [
    "## Run computation in one function"
   ]
  },
  {
   "cell_type": "code",
   "execution_count": null,
   "id": "92852620-cd5a-4f0d-8df7-d112d3da22ef",
   "metadata": {},
   "outputs": [],
   "source": [
    "diff_isoc = run_analysis(\n",
    "    poi_gdf=poi_gdf, \n",
    "    poi_name_col=poi_name_col,\n",
    "    aoi_gdf=aoi_gdf,\n",
    "    use_default_data=use_default_data,\n",
    "    add_pop_data=True,\n",
    "    pop_folder='test_data/pop_data',\n",
    "    use_local_pop_data=use_local_pop_data,\n",
    "    verbose=verbose,\n",
    "    text_on_streamlit=False,\n",
    "    )"
   ]
  },
  {
   "cell_type": "markdown",
   "id": "1da3b8da-7abd-42af-865c-2b1d43fb7aec",
   "metadata": {
    "tags": []
   },
   "source": [
    "## Plots"
   ]
  },
  {
   "cell_type": "code",
   "execution_count": null,
   "id": "2e1680ac-9676-42da-9522-dda916b586a1",
   "metadata": {},
   "outputs": [],
   "source": [
    "m = plot_isochrones(\n",
    "    diff_isoc,\n",
    "    poi_gdf=poi_gdf, \n",
    "    poi_name_col=poi_name_col,\n",
    "    add_legend=True\n",
    ")\n",
    "m"
   ]
  },
  {
   "cell_type": "code",
   "execution_count": null,
   "id": "0c13094f-14a8-4f82-981d-74b692e1c05c",
   "metadata": {},
   "outputs": [],
   "source": [
    "fig = plot_population_summary(diff_isoc)"
   ]
  },
  {
   "cell_type": "code",
   "execution_count": null,
   "id": "b6a177f6-6c43-4c3a-aee7-74df810a60ba",
   "metadata": {},
   "outputs": [],
   "source": []
  }
 ],
 "metadata": {
  "kernelspec": {
   "display_name": "Python [conda env:proximity]",
   "language": "python",
   "name": "conda-env-proximity-py"
  },
  "language_info": {
   "codemirror_mode": {
    "name": "ipython",
    "version": 3
   },
   "file_extension": ".py",
   "mimetype": "text/x-python",
   "name": "python",
   "nbconvert_exporter": "python",
   "pygments_lexer": "ipython3",
   "version": "3.9.16"
  }
 },
 "nbformat": 4,
 "nbformat_minor": 5
}
